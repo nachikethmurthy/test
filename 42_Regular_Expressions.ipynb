{
  "nbformat": 4,
  "nbformat_minor": 0,
  "metadata": {
    "kernelspec": {
      "display_name": "Python 3 (ipykernel)",
      "language": "python",
      "name": "python3"
    },
    "language_info": {
      "codemirror_mode": {
        "name": "ipython",
        "version": 3
      },
      "file_extension": ".py",
      "mimetype": "text/x-python",
      "name": "python",
      "nbconvert_exporter": "python",
      "pygments_lexer": "ipython3",
      "version": "3.8.8"
    },
    "colab": {
      "name": "42_Regular Expressions.ipynb",
      "provenance": [],
      "collapsed_sections": []
    }
  },
  "cells": [
    {
      "cell_type": "markdown",
      "metadata": {
        "id": "DrXX2K2jENU6"
      },
      "source": [
        "# Introduction to Regular Expressions\n",
        "\n",
        "A RegEx, or Regular Expression, is a sequence of characters that forms a search pattern."
      ]
    },
    {
      "cell_type": "markdown",
      "metadata": {
        "id": "IKS5DPePENVA"
      },
      "source": [
        "Game: \n",
        "\n",
        "- https://regexone.com/\n",
        "- https://regexcrossword.com/"
      ]
    },
    {
      "cell_type": "code",
      "metadata": {
        "id": "KRhHMTCxENVB"
      },
      "source": [
        "import re"
      ],
      "execution_count": 1,
      "outputs": []
    },
    {
      "cell_type": "code",
      "metadata": {
        "id": "n-WD9npBENVC",
        "colab": {
          "base_uri": "https://localhost:8080/"
        },
        "outputId": "34641997-3231-4f4e-add3-b8eab96a4e7c"
      },
      "source": [
        "dir(re)"
      ],
      "execution_count": 2,
      "outputs": [
        {
          "output_type": "execute_result",
          "data": {
            "text/plain": [
              "['A',\n",
              " 'ASCII',\n",
              " 'DEBUG',\n",
              " 'DOTALL',\n",
              " 'I',\n",
              " 'IGNORECASE',\n",
              " 'L',\n",
              " 'LOCALE',\n",
              " 'M',\n",
              " 'MULTILINE',\n",
              " 'Match',\n",
              " 'Pattern',\n",
              " 'RegexFlag',\n",
              " 'S',\n",
              " 'Scanner',\n",
              " 'T',\n",
              " 'TEMPLATE',\n",
              " 'U',\n",
              " 'UNICODE',\n",
              " 'VERBOSE',\n",
              " 'X',\n",
              " '_MAXCACHE',\n",
              " '__all__',\n",
              " '__builtins__',\n",
              " '__cached__',\n",
              " '__doc__',\n",
              " '__file__',\n",
              " '__loader__',\n",
              " '__name__',\n",
              " '__package__',\n",
              " '__spec__',\n",
              " '__version__',\n",
              " '_cache',\n",
              " '_compile',\n",
              " '_compile_repl',\n",
              " '_expand',\n",
              " '_locale',\n",
              " '_pickle',\n",
              " '_special_chars_map',\n",
              " '_subx',\n",
              " 'compile',\n",
              " 'copyreg',\n",
              " 'enum',\n",
              " 'error',\n",
              " 'escape',\n",
              " 'findall',\n",
              " 'finditer',\n",
              " 'fullmatch',\n",
              " 'functools',\n",
              " 'match',\n",
              " 'purge',\n",
              " 'search',\n",
              " 'split',\n",
              " 'sre_compile',\n",
              " 'sre_parse',\n",
              " 'sub',\n",
              " 'subn',\n",
              " 'template']"
            ]
          },
          "metadata": {},
          "execution_count": 2
        }
      ]
    },
    {
      "cell_type": "code",
      "metadata": {
        "id": "3JlQVi10ENVD"
      },
      "source": [
        "help(re)"
      ],
      "execution_count": null,
      "outputs": []
    },
    {
      "cell_type": "code",
      "metadata": {
        "id": "SQsN3DMBENVE",
        "colab": {
          "base_uri": "https://localhost:8080/"
        },
        "outputId": "80836802-c833-4114-cef6-8d8434274b77"
      },
      "source": [
        "re.search('[0-9]','foo123bar')"
      ],
      "execution_count": 4,
      "outputs": [
        {
          "output_type": "execute_result",
          "data": {
            "text/plain": [
              "<re.Match object; span=(3, 4), match='1'>"
            ]
          },
          "metadata": {},
          "execution_count": 4
        }
      ]
    },
    {
      "cell_type": "code",
      "metadata": {
        "id": "EdXQO2VPENVE",
        "colab": {
          "base_uri": "https://localhost:8080/"
        },
        "outputId": "e81043ed-1e1e-4d4f-9cf3-f8ad970642a7"
      },
      "source": [
        "re.search('[a-z]','foo123bar')"
      ],
      "execution_count": 5,
      "outputs": [
        {
          "output_type": "execute_result",
          "data": {
            "text/plain": [
              "<re.Match object; span=(0, 1), match='f'>"
            ]
          },
          "metadata": {},
          "execution_count": 5
        }
      ]
    },
    {
      "cell_type": "code",
      "metadata": {
        "id": "pLW0r7dcENVF",
        "colab": {
          "base_uri": "https://localhost:8080/"
        },
        "outputId": "f6082a52-8ddf-4032-f5e5-e3a018835665"
      },
      "source": [
        "re.search('[a]','foo123bar')"
      ],
      "execution_count": 6,
      "outputs": [
        {
          "output_type": "execute_result",
          "data": {
            "text/plain": [
              "<re.Match object; span=(7, 8), match='a'>"
            ]
          },
          "metadata": {},
          "execution_count": 6
        }
      ]
    },
    {
      "cell_type": "code",
      "metadata": {
        "id": "flO-Qp9dENVG",
        "colab": {
          "base_uri": "https://localhost:8080/"
        },
        "outputId": "70b75a79-f4d2-41e2-a01c-c2aea1594c1b"
      },
      "source": [
        "re.search('[ab]','foo123bar')"
      ],
      "execution_count": 7,
      "outputs": [
        {
          "output_type": "execute_result",
          "data": {
            "text/plain": [
              "<re.Match object; span=(6, 7), match='b'>"
            ]
          },
          "metadata": {},
          "execution_count": 7
        }
      ]
    },
    {
      "cell_type": "code",
      "metadata": {
        "id": "hAFAWseeENVH",
        "colab": {
          "base_uri": "https://localhost:8080/",
          "height": 35
        },
        "outputId": "10a109fe-6fef-41ce-d3f8-34ffb407c3ed"
      },
      "source": [
        "x = 'foo123bar'\n",
        "x[6]"
      ],
      "execution_count": 8,
      "outputs": [
        {
          "output_type": "execute_result",
          "data": {
            "application/vnd.google.colaboratory.intrinsic+json": {
              "type": "string"
            },
            "text/plain": [
              "'b'"
            ]
          },
          "metadata": {},
          "execution_count": 8
        }
      ]
    },
    {
      "cell_type": "code",
      "metadata": {
        "id": "leneDLQxENVI",
        "colab": {
          "base_uri": "https://localhost:8080/"
        },
        "outputId": "435c1219-d031-4183-d96a-44441af270b1"
      },
      "source": [
        "re.search('[abcf]','foo123bar')"
      ],
      "execution_count": 9,
      "outputs": [
        {
          "output_type": "execute_result",
          "data": {
            "text/plain": [
              "<re.Match object; span=(0, 1), match='f'>"
            ]
          },
          "metadata": {},
          "execution_count": 9
        }
      ]
    },
    {
      "cell_type": "code",
      "metadata": {
        "colab": {
          "base_uri": "https://localhost:8080/"
        },
        "id": "gVESq_ZUCqNy",
        "outputId": "0441244e-aae4-40c9-e7e3-2dd8e40c6f04"
      },
      "source": [
        "s = \"Hello 99 world\"\n",
        "re.search(\"99\",s)"
      ],
      "execution_count": 10,
      "outputs": [
        {
          "output_type": "execute_result",
          "data": {
            "text/plain": [
              "<re.Match object; span=(6, 8), match='99'>"
            ]
          },
          "metadata": {},
          "execution_count": 10
        }
      ]
    },
    {
      "cell_type": "code",
      "metadata": {
        "id": "X4bU4719ENVI"
      },
      "source": [
        "#find where is number 99 is present in a string\n",
        "s = \"Hello 99 world\"\n",
        "re.search(\"[0-9][abc]\",s)"
      ],
      "execution_count": 14,
      "outputs": []
    },
    {
      "cell_type": "code",
      "metadata": {
        "colab": {
          "base_uri": "https://localhost:8080/"
        },
        "id": "QvwFXXj7DHaA",
        "outputId": "21c5783b-fb0e-43ef-dc6f-d82e23e99cd0"
      },
      "source": [
        "re.search('[0-9][abc]','foo123bar')"
      ],
      "execution_count": 15,
      "outputs": [
        {
          "output_type": "execute_result",
          "data": {
            "text/plain": [
              "<re.Match object; span=(5, 7), match='3b'>"
            ]
          },
          "metadata": {},
          "execution_count": 15
        }
      ]
    },
    {
      "cell_type": "code",
      "metadata": {
        "id": "BsS80xy1Da7Q"
      },
      "source": [
        "re.search('[0-9][abc]','foo123 bar') # no output"
      ],
      "execution_count": 17,
      "outputs": []
    },
    {
      "cell_type": "code",
      "metadata": {
        "id": "jEm4lOB1ENVJ",
        "colab": {
          "base_uri": "https://localhost:8080/"
        },
        "outputId": "896fb062-1dd4-46aa-bc43-5713c90ed22c"
      },
      "source": [
        "#find where is number 99 is present in a string\n",
        "s = \"Hello 99 world\"\n",
        "re.search(\"[9][9]\",s)"
      ],
      "execution_count": 16,
      "outputs": [
        {
          "output_type": "execute_result",
          "data": {
            "text/plain": [
              "<re.Match object; span=(6, 8), match='99'>"
            ]
          },
          "metadata": {},
          "execution_count": 16
        }
      ]
    },
    {
      "cell_type": "code",
      "metadata": {
        "id": "hMFGxIvBENVK"
      },
      "source": [
        "s[6:8]"
      ],
      "execution_count": null,
      "outputs": []
    },
    {
      "cell_type": "code",
      "metadata": {
        "id": "m7WZA2jZENVK"
      },
      "source": [
        "# hello 1.2 world"
      ],
      "execution_count": null,
      "outputs": []
    },
    {
      "cell_type": "code",
      "metadata": {
        "id": "UfOzomAZENVL",
        "colab": {
          "base_uri": "https://localhost:8080/"
        },
        "outputId": "dba8922f-c833-4071-dbf4-b3e90f04822a"
      },
      "source": [
        "print(re.search('[0-9][0-9][0-9]', 'foo123bar'))"
      ],
      "execution_count": 18,
      "outputs": [
        {
          "output_type": "stream",
          "name": "stdout",
          "text": [
            "<re.Match object; span=(3, 6), match='123'>\n"
          ]
        }
      ]
    },
    {
      "cell_type": "code",
      "metadata": {
        "id": "St3pO7OiENVL",
        "colab": {
          "base_uri": "https://localhost:8080/"
        },
        "outputId": "7dea0017-64b4-4dd6-c66f-beaee61acd57"
      },
      "source": [
        "print(re.search('[0-9][0-9][0-9]', '234bazyfejgkou9ejfj8477566556ofakjfhj'))"
      ],
      "execution_count": 19,
      "outputs": [
        {
          "output_type": "stream",
          "name": "stdout",
          "text": [
            "<re.Match object; span=(0, 3), match='234'>\n"
          ]
        }
      ]
    },
    {
      "cell_type": "code",
      "metadata": {
        "id": "IO-r-rPtENVL",
        "colab": {
          "base_uri": "https://localhost:8080/"
        },
        "outputId": "20cb33f0-72fe-4540-a876-1a24e2e119d1"
      },
      "source": [
        "print(re.search('[0-9][0-9][0-9][0-9]', '234bazyfejgkou9ejfj8477566556ofakjfhj'))"
      ],
      "execution_count": 20,
      "outputs": [
        {
          "output_type": "stream",
          "name": "stdout",
          "text": [
            "<re.Match object; span=(19, 23), match='8477'>\n"
          ]
        }
      ]
    },
    {
      "cell_type": "code",
      "metadata": {
        "id": "BPueT-MLENVM",
        "colab": {
          "base_uri": "https://localhost:8080/"
        },
        "outputId": "1d6af378-0ae8-48d2-ad24-d5c8dbe24681"
      },
      "source": [
        "print(re.search('[0-9][0-9][0-9]', '12foo34'))"
      ],
      "execution_count": 21,
      "outputs": [
        {
          "output_type": "stream",
          "name": "stdout",
          "text": [
            "None\n"
          ]
        }
      ]
    },
    {
      "cell_type": "code",
      "metadata": {
        "id": "LVOkFw-SENVM",
        "colab": {
          "base_uri": "https://localhost:8080/"
        },
        "outputId": "b09f09ba-23c1-4525-d5bb-cbc09891b6f5"
      },
      "source": [
        "print(re.search('[A-Z][0-9][0-9]', '12foo34'))"
      ],
      "execution_count": 22,
      "outputs": [
        {
          "output_type": "stream",
          "name": "stdout",
          "text": [
            "None\n"
          ]
        }
      ]
    },
    {
      "cell_type": "code",
      "metadata": {
        "id": "g03fIT8sENVN",
        "colab": {
          "base_uri": "https://localhost:8080/"
        },
        "outputId": "724129b0-e207-44cb-adb8-23ccfa62cb94"
      },
      "source": [
        "print(re.search('[A-Z][0-9][0-9]', '12foo34Z12'))"
      ],
      "execution_count": 23,
      "outputs": [
        {
          "output_type": "stream",
          "name": "stdout",
          "text": [
            "<re.Match object; span=(7, 10), match='Z12'>\n"
          ]
        }
      ]
    },
    {
      "cell_type": "code",
      "metadata": {
        "id": "YB2qYooYENVN",
        "colab": {
          "base_uri": "https://localhost:8080/"
        },
        "outputId": "85d2ccc5-8f92-4d80-a9ae-7bc01280afb1"
      },
      "source": [
        "print(re.search('[a-z][0-9][0-9]', '12foo34'))"
      ],
      "execution_count": 24,
      "outputs": [
        {
          "output_type": "stream",
          "name": "stdout",
          "text": [
            "<re.Match object; span=(4, 7), match='o34'>\n"
          ]
        }
      ]
    },
    {
      "cell_type": "code",
      "metadata": {
        "id": "BG_PRz-BENVN",
        "colab": {
          "base_uri": "https://localhost:8080/"
        },
        "outputId": "3e428fca-42b8-4ece-fd2c-7cc93ec0af99"
      },
      "source": [
        "mystring = 'Here is an absolute ab string'\n",
        "print(re.search('is', mystring))\n",
        "print(re.search('ab', mystring))\n",
        "print(re.search('er', mystring))"
      ],
      "execution_count": 25,
      "outputs": [
        {
          "output_type": "stream",
          "name": "stdout",
          "text": [
            "<re.Match object; span=(5, 7), match='is'>\n",
            "<re.Match object; span=(11, 13), match='ab'>\n",
            "<re.Match object; span=(1, 3), match='er'>\n"
          ]
        }
      ]
    },
    {
      "cell_type": "code",
      "metadata": {
        "id": "Xmhkl4KnENVO",
        "colab": {
          "base_uri": "https://localhost:8080/"
        },
        "outputId": "27cc1333-be24-4f04-b0ca-fe32fecf5e20"
      },
      "source": [
        "mystring = 'Here is an absolute 99 string'\n",
        "print(re.search('99', mystring))\n",
        "print(re.search('ab', mystring))\n",
        "print(re.search('er', mystring))"
      ],
      "execution_count": 26,
      "outputs": [
        {
          "output_type": "stream",
          "name": "stdout",
          "text": [
            "<re.Match object; span=(20, 22), match='99'>\n",
            "<re.Match object; span=(11, 13), match='ab'>\n",
            "<re.Match object; span=(1, 3), match='er'>\n"
          ]
        }
      ]
    },
    {
      "cell_type": "code",
      "metadata": {
        "id": "kCv33IEwENVQ",
        "colab": {
          "base_uri": "https://localhost:8080/"
        },
        "outputId": "f7c2b8de-3e74-43e8-895a-b179689e8189"
      },
      "source": [
        "print(mystring)\n",
        "print(re.match('Here', mystring))\n",
        "print(re.match('is', mystring))\n",
        "print(re.match('er', mystring)) # Searches from start of string"
      ],
      "execution_count": 27,
      "outputs": [
        {
          "output_type": "stream",
          "name": "stdout",
          "text": [
            "Here is an absolute 99 string\n",
            "<re.Match object; span=(0, 4), match='Here'>\n",
            "None\n",
            "None\n"
          ]
        }
      ]
    },
    {
      "cell_type": "code",
      "metadata": {
        "id": "fBy4IO5LENVR"
      },
      "source": [
        "mystring = 'Here is an absolute 99 er string'\n",
        "print(re.search('99', mystring))\n",
        "print(re.search('ab', mystring))\n",
        "print(re.search('er', mystring))"
      ],
      "execution_count": null,
      "outputs": []
    },
    {
      "cell_type": "code",
      "metadata": {
        "id": "E6HiHOKtENVS"
      },
      "source": [
        "mystring = 'Here is an absolute 99 99 99 er string'\n",
        "print(re.search('99', mystring))\n",
        "print(re.search('ab', mystring))\n",
        "print(re.search('er', mystring))"
      ],
      "execution_count": null,
      "outputs": []
    },
    {
      "cell_type": "markdown",
      "metadata": {
        "id": "uhu10tGHENVT"
      },
      "source": [
        "Difference between match() & search()\n",
        "- https://www.geeksforgeeks.org/python-re-search-vs-re-match/#:~:text=Both%20return%20the%20first%20match,return%20match%20object%20if%20found.&text=While%20re.search()%20searches,all%20the%20lines%20of%20string."
      ]
    },
    {
      "cell_type": "code",
      "metadata": {
        "id": "G189Om16ENVT",
        "colab": {
          "base_uri": "https://localhost:8080/"
        },
        "outputId": "c7221a61-84ae-45fb-ce10-60d0b6f23f13"
      },
      "source": [
        "print(re.match('ab', 'about Here is an absolute string with another absolute and what about nothing'))\n",
        "print(re.findall('ab', 'Here is an absolute string with another absolute and what about nothing'))"
      ],
      "execution_count": 28,
      "outputs": [
        {
          "output_type": "stream",
          "name": "stdout",
          "text": [
            "<re.Match object; span=(0, 2), match='ab'>\n",
            "['ab', 'ab', 'ab']\n"
          ]
        }
      ]
    },
    {
      "cell_type": "code",
      "metadata": {
        "id": "JqBUySJ8ENVU"
      },
      "source": [
        "re.sub()"
      ],
      "execution_count": null,
      "outputs": []
    },
    {
      "cell_type": "code",
      "metadata": {
        "id": "GchhcxGEENVU",
        "colab": {
          "base_uri": "https://localhost:8080/"
        },
        "outputId": "750422e8-f742-41cf-c243-6eee04ae0435"
      },
      "source": [
        "import re\n",
        "print(re.sub('[ab]', '*', 'abcde abcdef abcdef'))"
      ],
      "execution_count": 29,
      "outputs": [
        {
          "output_type": "stream",
          "name": "stdout",
          "text": [
            "**cde **cdef **cdef\n"
          ]
        }
      ]
    },
    {
      "cell_type": "code",
      "metadata": {
        "id": "5aWOhiKYENVU",
        "colab": {
          "base_uri": "https://localhost:8080/"
        },
        "outputId": "3954c512-cf9e-4a8a-e172-d741a02eb2e0"
      },
      "source": [
        "print(re.sub('ab', '*', 'abcde abcdef abcdef'))"
      ],
      "execution_count": 30,
      "outputs": [
        {
          "output_type": "stream",
          "name": "stdout",
          "text": [
            "*cde *cdef *cdef\n"
          ]
        }
      ]
    },
    {
      "cell_type": "code",
      "metadata": {
        "id": "BIZ5rS60ENVV",
        "colab": {
          "base_uri": "https://localhost:8080/"
        },
        "outputId": "802a77ed-6901-4bbc-beb4-c8a2bdd982a6"
      },
      "source": [
        "import re\n",
        "print(re.findall('ab', 'abcde abcdef abcdef'))"
      ],
      "execution_count": 31,
      "outputs": [
        {
          "output_type": "stream",
          "name": "stdout",
          "text": [
            "['ab', 'ab', 'ab']\n"
          ]
        }
      ]
    },
    {
      "cell_type": "code",
      "metadata": {
        "id": "eScj6WF-ENVV",
        "colab": {
          "base_uri": "https://localhost:8080/"
        },
        "outputId": "53d7d569-d4db-4090-86f8-971e4c88cdff"
      },
      "source": [
        "print(re.sub('abc', '*', 'abde abcdef abcdef' ))"
      ],
      "execution_count": 33,
      "outputs": [
        {
          "output_type": "stream",
          "name": "stdout",
          "text": [
            "abde *def *def\n"
          ]
        }
      ]
    },
    {
      "cell_type": "code",
      "metadata": {
        "id": "nKmLshP6ENVV",
        "colab": {
          "base_uri": "https://localhost:8080/"
        },
        "outputId": "94a843e8-743c-4ff2-c818-c91846a94c4e"
      },
      "source": [
        "import re\n",
        "print(re.sub('[ab]', '*', 'abcde abcdef abcdef'))"
      ],
      "execution_count": 34,
      "outputs": [
        {
          "output_type": "stream",
          "name": "stdout",
          "text": [
            "**cde **cdef **cdef\n"
          ]
        }
      ]
    },
    {
      "cell_type": "code",
      "metadata": {
        "id": "hdQsONSCENVW",
        "colab": {
          "base_uri": "https://localhost:8080/"
        },
        "outputId": "a389823a-6f15-4ae8-9515-33f5c44a4610"
      },
      "source": [
        "mystring = 'Hi Ram, Welcome to Edureka'\n",
        "print(re.match('[a-zA-Z]+', mystring))"
      ],
      "execution_count": 35,
      "outputs": [
        {
          "output_type": "stream",
          "name": "stdout",
          "text": [
            "<re.Match object; span=(0, 2), match='Hi'>\n"
          ]
        }
      ]
    },
    {
      "cell_type": "code",
      "metadata": {
        "id": "hKvG3rxnENVW",
        "colab": {
          "base_uri": "https://localhost:8080/"
        },
        "outputId": "d8e28ff3-383c-4d08-eb22-f7d0d1cdb114"
      },
      "source": [
        "mystring = 'Hi Ram, Welcome to Edureka batch42'\n",
        "print(re.findall('[a-zA-Z]+', mystring))\n",
        "print(re.search('[a-zA-Z]+', mystring))"
      ],
      "execution_count": 37,
      "outputs": [
        {
          "output_type": "stream",
          "name": "stdout",
          "text": [
            "['Hi', 'Ram', 'Welcome', 'to', 'Edureka', 'batch']\n",
            "<re.Match object; span=(0, 2), match='Hi'>\n"
          ]
        }
      ]
    },
    {
      "cell_type": "code",
      "metadata": {
        "id": "CxWO3tkjENVX"
      },
      "source": [
        "mystring = 'abc_xyz@gmail.com. Please communicate at your convenience. My alternate email id is mayank.parikh@abc.xyz'\n",
        "print(re.match('[a-zA-Z]+[.]*[_0-9a-zA-Z]*@[a-zA-Z]+.[a-zA-Z]+', mystring))   \n",
        "# [a-zA-Z]+   'qRaR'\n",
        "# [_0-9a-zA-Z]*   '' or '7_aX' or '____23Kds_'\n",
        "# @\n",
        "# [a-zA-Z]+\n",
        "# .\n",
        "# [a-zA-Z]+\n",
        "print(re.search('[a-zA-Z]+[_0-9a-zA-Z]*@[a-zA-Z]+.[a-zA-Z]+', mystring)) \n",
        "print(re.findall('[a-zA-Z]+[_0-9a-zA-Z]*@[a-zA-Z]+.[a-zA-Z]+', mystring)) "
      ],
      "execution_count": null,
      "outputs": []
    },
    {
      "cell_type": "code",
      "metadata": {
        "colab": {
          "base_uri": "https://localhost:8080/"
        },
        "id": "jG0UJ7WIM6Bu",
        "outputId": "565e82de-6af4-489c-8ea7-d4998f5b25b1"
      },
      "source": [
        "#Modify the above Regular Expression to return --> mayank.parikh@abc.xyz\n",
        "print(re.findall('[a-zA-Z]+[._0-9a-zA-Z]*@[a-zA-Z]+.[a-zA-Z]+', mystring)) "
      ],
      "execution_count": 44,
      "outputs": [
        {
          "output_type": "stream",
          "name": "stdout",
          "text": [
            "['abc_xyz@gmail.com', 'mayank.parikh@abc.xyz']\n"
          ]
        }
      ]
    },
    {
      "cell_type": "code",
      "metadata": {
        "id": "-wSVqwNbENVY",
        "colab": {
          "base_uri": "https://localhost:8080/"
        },
        "outputId": "5c86489c-346b-408d-8524-5a7fa21d33a5"
      },
      "source": [
        "mystring = 'abc_xyz@gmail.com'\n",
        "#print(re.match('[a-zA-Z]+[_0-9a-zA-Z]*.@[a-zA-Z]+.[a-zA-Z]+', mystring))\n",
        "print(re.match('[a-zA-Z]+[_0-9a-zA-Z]*.[_0-9a-zA-Z]*@[a-zA-Z]+.[a-zA-Z]+', mystring))"
      ],
      "execution_count": 45,
      "outputs": [
        {
          "output_type": "stream",
          "name": "stdout",
          "text": [
            "<re.Match object; span=(0, 17), match='abc_xyz@gmail.com'>\n"
          ]
        }
      ]
    },
    {
      "cell_type": "code",
      "metadata": {
        "id": "MWuJIpGtENVY",
        "colab": {
          "base_uri": "https://localhost:8080/"
        },
        "outputId": "536f1615-2ee8-468c-da77-2549258fdcc3"
      },
      "source": [
        "mystring = 'abc_xyz@gmail.com. Please communicate at your convenience. My alternate email id is mayank09.parikh@abc.xyz'\n",
        "#mystring = 'abcxyz@gmail.com'\n",
        "print(re.findall('[a-zA-Z]+[_0-9a-zA-Z]*[.]?[_0-9a-zA-Z]*@[a-zA-Z]+.[a-zA-Z]+', mystring)) # ? --> 0 or 1\n",
        "# * --> 0 or more\n",
        "# + --> 1 or more"
      ],
      "execution_count": 46,
      "outputs": [
        {
          "output_type": "stream",
          "name": "stdout",
          "text": [
            "['abc_xyz@gmail.com', 'mayank09.parikh@abc.xyz']\n"
          ]
        }
      ]
    },
    {
      "cell_type": "markdown",
      "metadata": {
        "id": "VwNyNEuFENVZ"
      },
      "source": [
        "* **For hands on and tutorial:** https://www.w3schools.com/python/python_regex.asp\n",
        "* **Very good explanation:** https://realpython.com/regex-python/"
      ]
    },
    {
      "cell_type": "markdown",
      "metadata": {
        "id": "aBhZtzBCENVZ"
      },
      "source": [
        "**[ ] -- \tA set of characters**"
      ]
    },
    {
      "cell_type": "code",
      "metadata": {
        "id": "zDebGU1WENVZ",
        "colab": {
          "base_uri": "https://localhost:8080/"
        },
        "outputId": "2066ed1c-3a43-4e56-946e-17553e9aaab5"
      },
      "source": [
        "txt = \"The rain in Spain\"\n",
        "\n",
        "#Find all lower case characters alphabetically between \"a\" and \"m\":\n",
        "\n",
        "x = re.findall(\"[a-m]\", txt)\n",
        "print(x)"
      ],
      "execution_count": 47,
      "outputs": [
        {
          "output_type": "stream",
          "name": "stdout",
          "text": [
            "['h', 'e', 'a', 'i', 'i', 'a', 'i']\n"
          ]
        }
      ]
    },
    {
      "cell_type": "markdown",
      "metadata": {
        "id": "Q6c_0noUENVZ"
      },
      "source": [
        "**\\\t--  Signals a special sequence (can also be used to escape special characters)**"
      ]
    },
    {
      "cell_type": "code",
      "metadata": {
        "id": "P-NuoAvSENVa",
        "colab": {
          "base_uri": "https://localhost:8080/"
        },
        "outputId": "3b942e23-99c9-425e-92fd-7e19b1c91e73"
      },
      "source": [
        "txt = \"That will be 59 dollars\"\n",
        "\n",
        "#Find all digit characters:\n",
        "\n",
        "x = re.findall(\"\\d\", txt)\n",
        "print(x)"
      ],
      "execution_count": 48,
      "outputs": [
        {
          "output_type": "stream",
          "name": "stdout",
          "text": [
            "['5', '9']\n"
          ]
        }
      ]
    },
    {
      "cell_type": "markdown",
      "metadata": {
        "id": "KZJWftjwENVa"
      },
      "source": [
        "**. --\tAny character (except newline character)**"
      ]
    },
    {
      "cell_type": "code",
      "metadata": {
        "id": "yV-0N2y7ENVa",
        "colab": {
          "base_uri": "https://localhost:8080/"
        },
        "outputId": "d0b080a7-55e8-4149-cff1-ff5c4ea894d1"
      },
      "source": [
        "txt = \"hello world\"\n",
        "\n",
        "#Search for a sequence that starts with \"he\", followed by two (any) characters, and an \"o\":\n",
        "\n",
        "x = re.findall(\"he..o\", txt)\n",
        "print(x)"
      ],
      "execution_count": 49,
      "outputs": [
        {
          "output_type": "stream",
          "name": "stdout",
          "text": [
            "['hello']\n"
          ]
        }
      ]
    },
    {
      "cell_type": "markdown",
      "metadata": {
        "id": "8OnJVsU1ENVa"
      },
      "source": [
        "**^\t-- Starts with**"
      ]
    },
    {
      "cell_type": "code",
      "metadata": {
        "id": "zFc5XEV5ENVa",
        "colab": {
          "base_uri": "https://localhost:8080/"
        },
        "outputId": "bd8c196a-9d8b-472b-90f4-c21173362e59"
      },
      "source": [
        "txt = \"hello world\"\n",
        "\n",
        "#Check if the string starts with 'hello':\n",
        "\n",
        "x = re.findall(\"^hello\", txt)\n",
        "if x:\n",
        "  print(\"Yes, the string starts with 'hello'\")\n",
        "else:\n",
        "  print(\"No match\")"
      ],
      "execution_count": 50,
      "outputs": [
        {
          "output_type": "stream",
          "name": "stdout",
          "text": [
            "Yes, the string starts with 'hello'\n"
          ]
        }
      ]
    },
    {
      "cell_type": "markdown",
      "metadata": {
        "id": "n5l8jTimENVb"
      },
      "source": [
        "**$\t-- Ends with**"
      ]
    },
    {
      "cell_type": "code",
      "metadata": {
        "id": "pkT__wVnENVb",
        "colab": {
          "base_uri": "https://localhost:8080/"
        },
        "outputId": "14dfbff7-3571-49b6-d8c1-4e25b7f5a81c"
      },
      "source": [
        "txt = \"hello world\"\n",
        "\n",
        "#Check if the string ends with 'world':\n",
        "\n",
        "x = re.findall(\"world$\", txt)\n",
        "if x:\n",
        "  print(\"Yes, the string ends with 'world'\")\n",
        "else:\n",
        "  print(\"No match\")"
      ],
      "execution_count": 51,
      "outputs": [
        {
          "output_type": "stream",
          "name": "stdout",
          "text": [
            "Yes, the string ends with 'world'\n"
          ]
        }
      ]
    },
    {
      "cell_type": "markdown",
      "metadata": {
        "id": "jmhcivKsENVb"
      },
      "source": [
        "**\\*\t-- Zero or more occurrences**"
      ]
    },
    {
      "cell_type": "code",
      "metadata": {
        "id": "VHAWhFumENVb",
        "colab": {
          "base_uri": "https://localhost:8080/"
        },
        "outputId": "c89d0057-3624-4f2f-8642-7fca5ceb1115"
      },
      "source": [
        "txt = \"The rain in Spain falls mainly in the plain!\"\n",
        "\n",
        "#Check if the string contains \"ai\" followed by 0 or more \"x\" characters:\n",
        "\n",
        "x = re.findall(\"aix*\", txt)\n",
        "\n",
        "print(x)\n",
        "\n",
        "if x:\n",
        "  print(\"Yes, there is at least one match!\")\n",
        "else:\n",
        "  print(\"No match\")\n"
      ],
      "execution_count": 52,
      "outputs": [
        {
          "output_type": "stream",
          "name": "stdout",
          "text": [
            "['ai', 'ai', 'ai', 'ai']\n",
            "Yes, there is at least one match!\n"
          ]
        }
      ]
    },
    {
      "cell_type": "markdown",
      "metadata": {
        "id": "7XzAoWsSENVc"
      },
      "source": [
        "**+\t-- One or more occurrences**"
      ]
    },
    {
      "cell_type": "code",
      "metadata": {
        "id": "iNH5An7ZENVc",
        "colab": {
          "base_uri": "https://localhost:8080/"
        },
        "outputId": "27722c0d-e7c0-43bd-ee61-8ea8c466b931"
      },
      "source": [
        "txt = \"The rain in Spain falls mainly in the plain!\"\n",
        "\n",
        "#Check if the string contains \"ai\" followed by 1 or more \"x\" characters:\n",
        "\n",
        "x = re.findall(\"aix+\", txt)\n",
        "\n",
        "print(x)\n",
        "\n",
        "if x:\n",
        "  print(\"Yes, there is at least one match!\")\n",
        "else:\n",
        "  print(\"No match\")"
      ],
      "execution_count": 53,
      "outputs": [
        {
          "output_type": "stream",
          "name": "stdout",
          "text": [
            "[]\n",
            "No match\n"
          ]
        }
      ]
    },
    {
      "cell_type": "markdown",
      "metadata": {
        "id": "6xKiqKC-ENVc"
      },
      "source": [
        "**{} --\tExactly the specified number of occurrences**"
      ]
    },
    {
      "cell_type": "code",
      "metadata": {
        "id": "bUAp40EDENVc",
        "colab": {
          "base_uri": "https://localhost:8080/"
        },
        "outputId": "61608e9e-4530-4a9d-ff3b-f45c84792df6"
      },
      "source": [
        "txt = \"The rain in Spain falls mainly in the plain!\"\n",
        "\n",
        "#Check if the string contains \"a\" followed by exactly two \"l\" characters:\n",
        "\n",
        "x = re.findall(\"al{2}\", txt)\n",
        "\n",
        "print(x)\n",
        "\n",
        "if x:\n",
        "  print(\"Yes, there is at least one match!\")\n",
        "else:\n",
        "  print(\"No match\")"
      ],
      "execution_count": 54,
      "outputs": [
        {
          "output_type": "stream",
          "name": "stdout",
          "text": [
            "['all']\n",
            "Yes, there is at least one match!\n"
          ]
        }
      ]
    },
    {
      "cell_type": "markdown",
      "metadata": {
        "id": "ofj4rTLHENVc"
      },
      "source": [
        "**|\t-- Either or**"
      ]
    },
    {
      "cell_type": "code",
      "metadata": {
        "id": "ZTIG3sMbENVd",
        "colab": {
          "base_uri": "https://localhost:8080/"
        },
        "outputId": "963c7617-2514-403f-bcfb-00466867427b"
      },
      "source": [
        "txt = \"The rain in Spain falls mainly in the plain!\"\n",
        "\n",
        "#Check if the string contains either \"falls\" or \"stays\":\n",
        "\n",
        "x = re.findall(\"falls|stays\", txt)\n",
        "\n",
        "print(x)\n",
        "\n",
        "if x:\n",
        "  print(\"Yes, there is at least one match!\")\n",
        "else:\n",
        "  print(\"No match\")"
      ],
      "execution_count": 55,
      "outputs": [
        {
          "output_type": "stream",
          "name": "stdout",
          "text": [
            "['falls']\n",
            "Yes, there is at least one match!\n"
          ]
        }
      ]
    },
    {
      "cell_type": "code",
      "metadata": {
        "id": "KG8p4e6oENVd"
      },
      "source": [
        ""
      ],
      "execution_count": null,
      "outputs": []
    },
    {
      "cell_type": "code",
      "metadata": {
        "id": "3PtYTJ0UENVd"
      },
      "source": [
        ""
      ],
      "execution_count": null,
      "outputs": []
    },
    {
      "cell_type": "markdown",
      "metadata": {
        "id": "mm7syU9QENVd"
      },
      "source": [
        "![Set.png](attachment:Set.png)"
      ]
    },
    {
      "cell_type": "code",
      "metadata": {
        "id": "8e7yEu1hENVd"
      },
      "source": [
        ""
      ],
      "execution_count": null,
      "outputs": []
    },
    {
      "cell_type": "code",
      "metadata": {
        "id": "zljpMayEENVd"
      },
      "source": [
        ""
      ],
      "execution_count": null,
      "outputs": []
    },
    {
      "cell_type": "code",
      "metadata": {
        "id": "4QrnGc6nENVe"
      },
      "source": [
        ""
      ],
      "execution_count": null,
      "outputs": []
    },
    {
      "cell_type": "code",
      "metadata": {
        "id": "lSQb_sFaENVe"
      },
      "source": [
        ""
      ],
      "execution_count": null,
      "outputs": []
    },
    {
      "cell_type": "code",
      "metadata": {
        "id": "ExxsUwFFENVe"
      },
      "source": [
        ""
      ],
      "execution_count": null,
      "outputs": []
    },
    {
      "cell_type": "code",
      "metadata": {
        "id": "B5zY4u5CENVe"
      },
      "source": [
        "mystr1 = 'line1 content. line2 content. line3 content'\n",
        "mystr2 = 'line1 line2 line3'\n",
        "print(re.split('\\.', mystr1))\n",
        "print(re.split(' ', mystr2))\n",
        "# string=\"She sells. sea shells. on the. sea shore\"\n",
        "# print(re.split(\" \",string))"
      ],
      "execution_count": null,
      "outputs": []
    },
    {
      "cell_type": "code",
      "metadata": {
        "id": "I1WcGAlEENVf"
      },
      "source": [
        ""
      ],
      "execution_count": null,
      "outputs": []
    },
    {
      "cell_type": "code",
      "metadata": {
        "id": "SSaD8fwMENVf"
      },
      "source": [
        ""
      ],
      "execution_count": null,
      "outputs": []
    }
  ]
}